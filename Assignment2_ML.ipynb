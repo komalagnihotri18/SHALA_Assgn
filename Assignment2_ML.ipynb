{
  "nbformat": 4,
  "nbformat_minor": 0,
  "metadata": {
    "colab": {
      "name": "Assignment2_ML.ipynb",
      "provenance": [],
      "collapsed_sections": [],
      "include_colab_link": true
    },
    "kernelspec": {
      "name": "python3",
      "display_name": "Python 3"
    }
  },
  "cells": [
    {
      "cell_type": "markdown",
      "metadata": {
        "id": "view-in-github",
        "colab_type": "text"
      },
      "source": [
        "<a href=\"https://colab.research.google.com/github/komalagnihotri18/SHALA_Assgn/blob/master/Assignment2_ML.ipynb\" target=\"_parent\"><img src=\"https://colab.research.google.com/assets/colab-badge.svg\" alt=\"Open In Colab\"/></a>"
      ]
    },
    {
      "cell_type": "markdown",
      "metadata": {
        "id": "RNGCt-t9hq7H",
        "colab_type": "text"
      },
      "source": [
        "# Assignment 2: **Machine learning with tree based models** "
      ]
    },
    {
      "cell_type": "markdown",
      "metadata": {
        "id": "AlmhCLRrfoG4",
        "colab_type": "text"
      },
      "source": [
        "In this assignment, you will work on the **Titanic** dataset and use machine learning to create a model that predicts which passengers survived the **Titanic** shipwreck. "
      ]
    },
    {
      "cell_type": "markdown",
      "metadata": {
        "id": "ysVvT5atiUCf",
        "colab_type": "text"
      },
      "source": [
        "---\n",
        "## About the dataset:\n",
        "---\n",
        "* The column named  `Survived` is the label and the remaining columns are features. \n",
        "* The features can be described as given below:\n",
        "  <table>\n",
        "  <thead>\n",
        "    <tr>\n",
        "      <th>Variable</th>\n",
        "      <th>Definition </th>\n",
        "    </tr>\n",
        "  </thead>\n",
        "  <tbody>\n",
        "    <tr>\n",
        "      <td>pclass</td>\n",
        "      <td>Ticket class\t</td>\n",
        "    </tr>\n",
        "    <tr>\n",
        "      <td>SibSp</td>\n",
        "      <td>Number of siblings / spouses aboard the Titanic</td>\n",
        "    </tr>\n",
        "    <tr>\n",
        "      <td>Parch</td>\n",
        "      <td>Number of parents / children aboard the Titanic</td>\n",
        "    </tr>\n",
        "    <tr>\n",
        "      <td>Ticket</td>\n",
        "      <td>Ticket number</td>\n",
        "    </tr>\n",
        "    <tr>\n",
        "      <td>Embarked</td>\n",
        "      <td>Port of Embarkation: C = Cherbourg, Q = Queenstown, S = Southampton</td>\n",
        "    </tr>\n",
        "  </tbody>\n",
        "</table> \t"
      ]
    },
    {
      "cell_type": "markdown",
      "metadata": {
        "id": "2XYBBIcKkXtu",
        "colab_type": "text"
      },
      "source": [
        "---\n",
        "## Instructions\n",
        "---\n",
        "* Apply suitable data pre-processing techniques, if needed. \n",
        "* Implement a few classifiers to create your model and compare the performance metrics by plotting the curves like roc_auc, confusion matrix, etc. "
      ]
    },
    {
      "cell_type": "markdown",
      "metadata": {
        "id": "adU8OP_vts1u",
        "colab_type": "text"
      },
      "source": [
        "**Importing Libraries  :**"
      ]
    },
    {
      "cell_type": "code",
      "metadata": {
        "id": "KE79bLl6iCx2",
        "colab_type": "code",
        "outputId": "077ebcc2-d0fb-4dd6-8127-21ac9f55b6be",
        "colab": {
          "base_uri": "https://localhost:8080/",
          "height": 71
        }
      },
      "source": [
        "import pandas as pd \n",
        "import numpy as np\n",
        "import matplotlib.pyplot as plt\n",
        "import seaborn as sns"
      ],
      "execution_count": 0,
      "outputs": [
        {
          "output_type": "stream",
          "text": [
            "/usr/local/lib/python3.6/dist-packages/statsmodels/tools/_testing.py:19: FutureWarning: pandas.util.testing is deprecated. Use the functions in the public API at pandas.testing instead.\n",
            "  import pandas.util.testing as tm\n"
          ],
          "name": "stderr"
        }
      ]
    },
    {
      "cell_type": "markdown",
      "metadata": {
        "id": "e9B7MLK1t7CR",
        "colab_type": "text"
      },
      "source": [
        "**Loading all the dataset  :**"
      ]
    },
    {
      "cell_type": "code",
      "metadata": {
        "id": "eoqpA6qmZ_JT",
        "colab_type": "code",
        "colab": {}
      },
      "source": [
        "url_titanic = 'https://raw.githubusercontent.com/shala2020/shala2020.github.io/master/Lecture_Materials/Assignments/MachineLearning/L2/titanic.csv'\n",
        "titanic_data = pd.read_csv(url_titanic)"
      ],
      "execution_count": 0,
      "outputs": []
    },
    {
      "cell_type": "markdown",
      "metadata": {
        "id": "sr-Xbut_TwQN",
        "colab_type": "text"
      },
      "source": [
        "**Printing the top 5 rows of dataset  :**"
      ]
    },
    {
      "cell_type": "code",
      "metadata": {
        "id": "WzDpMsWdiJUs",
        "colab_type": "code",
        "outputId": "d2814d06-610a-48ae-a1fa-bda37ab6c6be",
        "colab": {
          "base_uri": "https://localhost:8080/",
          "height": 204
        }
      },
      "source": [
        "# Getting shape of data=========================\n",
        "titanic_data.head(5)"
      ],
      "execution_count": 0,
      "outputs": [
        {
          "output_type": "execute_result",
          "data": {
            "text/html": [
              "<div>\n",
              "<style scoped>\n",
              "    .dataframe tbody tr th:only-of-type {\n",
              "        vertical-align: middle;\n",
              "    }\n",
              "\n",
              "    .dataframe tbody tr th {\n",
              "        vertical-align: top;\n",
              "    }\n",
              "\n",
              "    .dataframe thead th {\n",
              "        text-align: right;\n",
              "    }\n",
              "</style>\n",
              "<table border=\"1\" class=\"dataframe\">\n",
              "  <thead>\n",
              "    <tr style=\"text-align: right;\">\n",
              "      <th></th>\n",
              "      <th>PassengerId</th>\n",
              "      <th>Survived</th>\n",
              "      <th>Pclass</th>\n",
              "      <th>Name</th>\n",
              "      <th>Sex</th>\n",
              "      <th>Age</th>\n",
              "      <th>SibSp</th>\n",
              "      <th>Parch</th>\n",
              "      <th>Ticket</th>\n",
              "      <th>Fare</th>\n",
              "      <th>Cabin</th>\n",
              "      <th>Embarked</th>\n",
              "    </tr>\n",
              "  </thead>\n",
              "  <tbody>\n",
              "    <tr>\n",
              "      <th>0</th>\n",
              "      <td>1</td>\n",
              "      <td>0</td>\n",
              "      <td>3</td>\n",
              "      <td>Braund, Mr. Owen Harris</td>\n",
              "      <td>male</td>\n",
              "      <td>22.0</td>\n",
              "      <td>1</td>\n",
              "      <td>0</td>\n",
              "      <td>A/5 21171</td>\n",
              "      <td>7.2500</td>\n",
              "      <td>NaN</td>\n",
              "      <td>S</td>\n",
              "    </tr>\n",
              "    <tr>\n",
              "      <th>1</th>\n",
              "      <td>2</td>\n",
              "      <td>1</td>\n",
              "      <td>1</td>\n",
              "      <td>Cumings, Mrs. John Bradley (Florence Briggs Th...</td>\n",
              "      <td>female</td>\n",
              "      <td>38.0</td>\n",
              "      <td>1</td>\n",
              "      <td>0</td>\n",
              "      <td>PC 17599</td>\n",
              "      <td>71.2833</td>\n",
              "      <td>C85</td>\n",
              "      <td>C</td>\n",
              "    </tr>\n",
              "    <tr>\n",
              "      <th>2</th>\n",
              "      <td>3</td>\n",
              "      <td>1</td>\n",
              "      <td>3</td>\n",
              "      <td>Heikkinen, Miss. Laina</td>\n",
              "      <td>female</td>\n",
              "      <td>26.0</td>\n",
              "      <td>0</td>\n",
              "      <td>0</td>\n",
              "      <td>STON/O2. 3101282</td>\n",
              "      <td>7.9250</td>\n",
              "      <td>NaN</td>\n",
              "      <td>S</td>\n",
              "    </tr>\n",
              "    <tr>\n",
              "      <th>3</th>\n",
              "      <td>4</td>\n",
              "      <td>1</td>\n",
              "      <td>1</td>\n",
              "      <td>Futrelle, Mrs. Jacques Heath (Lily May Peel)</td>\n",
              "      <td>female</td>\n",
              "      <td>35.0</td>\n",
              "      <td>1</td>\n",
              "      <td>0</td>\n",
              "      <td>113803</td>\n",
              "      <td>53.1000</td>\n",
              "      <td>C123</td>\n",
              "      <td>S</td>\n",
              "    </tr>\n",
              "    <tr>\n",
              "      <th>4</th>\n",
              "      <td>5</td>\n",
              "      <td>0</td>\n",
              "      <td>3</td>\n",
              "      <td>Allen, Mr. William Henry</td>\n",
              "      <td>male</td>\n",
              "      <td>35.0</td>\n",
              "      <td>0</td>\n",
              "      <td>0</td>\n",
              "      <td>373450</td>\n",
              "      <td>8.0500</td>\n",
              "      <td>NaN</td>\n",
              "      <td>S</td>\n",
              "    </tr>\n",
              "  </tbody>\n",
              "</table>\n",
              "</div>"
            ],
            "text/plain": [
              "   PassengerId  Survived  Pclass  ...     Fare Cabin  Embarked\n",
              "0            1         0       3  ...   7.2500   NaN         S\n",
              "1            2         1       1  ...  71.2833   C85         C\n",
              "2            3         1       3  ...   7.9250   NaN         S\n",
              "3            4         1       1  ...  53.1000  C123         S\n",
              "4            5         0       3  ...   8.0500   NaN         S\n",
              "\n",
              "[5 rows x 12 columns]"
            ]
          },
          "metadata": {
            "tags": []
          },
          "execution_count": 4
        }
      ]
    },
    {
      "cell_type": "markdown",
      "metadata": {
        "id": "ZPKy9IKhT5l5",
        "colab_type": "text"
      },
      "source": [
        "**Sometimes there are missing values found in dataset, we should know the number of missing values in every column, that is shown below :**"
      ]
    },
    {
      "cell_type": "code",
      "metadata": {
        "id": "PsDAl89fk56N",
        "colab_type": "code",
        "outputId": "33d6c736-724d-4243-8144-4a9f0072c59b",
        "colab": {
          "base_uri": "https://localhost:8080/",
          "height": 238
        }
      },
      "source": [
        "# Getting the information of missing data==========\n",
        "print(titanic_data.isna().sum())"
      ],
      "execution_count": 0,
      "outputs": [
        {
          "output_type": "stream",
          "text": [
            "PassengerId      0\n",
            "Survived         0\n",
            "Pclass           0\n",
            "Name             0\n",
            "Sex              0\n",
            "Age            177\n",
            "SibSp            0\n",
            "Parch            0\n",
            "Ticket           0\n",
            "Fare             0\n",
            "Cabin          687\n",
            "Embarked         2\n",
            "dtype: int64\n"
          ],
          "name": "stdout"
        }
      ]
    },
    {
      "cell_type": "code",
      "metadata": {
        "id": "3AuIamgRlnbJ",
        "colab_type": "code",
        "colab": {}
      },
      "source": [
        "# Converting data into dataframe===================\n",
        "df = pd.DataFrame(titanic_data)"
      ],
      "execution_count": 0,
      "outputs": []
    },
    {
      "cell_type": "markdown",
      "metadata": {
        "id": "vU9KCdZFufOZ",
        "colab_type": "text"
      },
      "source": [
        "**Filling missing Data with their Median and Mode  :**\n",
        "\n",
        "\n",
        "*   Missing value of Age is replaced by their median .\n",
        "*   Missing value of Fare is replaced by their median .\n",
        "*   Missing value of Embarked is replaced by their mode .\n",
        "\n",
        "\n",
        "\n"
      ]
    },
    {
      "cell_type": "code",
      "metadata": {
        "id": "zmf1K3vZlaTZ",
        "colab_type": "code",
        "colab": {}
      },
      "source": [
        "#for dataset in df:    \n",
        "#complete missing age with median\n",
        "df['Age'].fillna(df['Age'].median(), inplace = True)\n",
        "df['Fare'].fillna(df['Fare'].median(), inplace = True)\n",
        "df['Embarked'].fillna(df['Embarked'].mode()[0], inplace = True)"
      ],
      "execution_count": 0,
      "outputs": []
    },
    {
      "cell_type": "markdown",
      "metadata": {
        "id": "5R0ih1YWur1L",
        "colab_type": "text"
      },
      "source": [
        "**Dropping Unimportant Columns which are unlikely significant :**"
      ]
    },
    {
      "cell_type": "code",
      "metadata": {
        "id": "iVK94iy40qTj",
        "colab_type": "code",
        "outputId": "882b1731-2bbd-4edf-b03d-2940cf0362f9",
        "colab": {
          "base_uri": "https://localhost:8080/",
          "height": 419
        }
      },
      "source": [
        "df=df.drop(['PassengerId','Name','Survived','Cabin'],axis=1)\n",
        "X=df.iloc[:,:].values\n",
        "X=pd.DataFrame(X)\n",
        "y=titanic_data.loc[:,['Survived']].values\n",
        "X"
      ],
      "execution_count": 0,
      "outputs": [
        {
          "output_type": "execute_result",
          "data": {
            "text/html": [
              "<div>\n",
              "<style scoped>\n",
              "    .dataframe tbody tr th:only-of-type {\n",
              "        vertical-align: middle;\n",
              "    }\n",
              "\n",
              "    .dataframe tbody tr th {\n",
              "        vertical-align: top;\n",
              "    }\n",
              "\n",
              "    .dataframe thead th {\n",
              "        text-align: right;\n",
              "    }\n",
              "</style>\n",
              "<table border=\"1\" class=\"dataframe\">\n",
              "  <thead>\n",
              "    <tr style=\"text-align: right;\">\n",
              "      <th></th>\n",
              "      <th>0</th>\n",
              "      <th>1</th>\n",
              "      <th>2</th>\n",
              "      <th>3</th>\n",
              "      <th>4</th>\n",
              "      <th>5</th>\n",
              "      <th>6</th>\n",
              "      <th>7</th>\n",
              "    </tr>\n",
              "  </thead>\n",
              "  <tbody>\n",
              "    <tr>\n",
              "      <th>0</th>\n",
              "      <td>3</td>\n",
              "      <td>male</td>\n",
              "      <td>22</td>\n",
              "      <td>1</td>\n",
              "      <td>0</td>\n",
              "      <td>A/5 21171</td>\n",
              "      <td>7.25</td>\n",
              "      <td>S</td>\n",
              "    </tr>\n",
              "    <tr>\n",
              "      <th>1</th>\n",
              "      <td>1</td>\n",
              "      <td>female</td>\n",
              "      <td>38</td>\n",
              "      <td>1</td>\n",
              "      <td>0</td>\n",
              "      <td>PC 17599</td>\n",
              "      <td>71.2833</td>\n",
              "      <td>C</td>\n",
              "    </tr>\n",
              "    <tr>\n",
              "      <th>2</th>\n",
              "      <td>3</td>\n",
              "      <td>female</td>\n",
              "      <td>26</td>\n",
              "      <td>0</td>\n",
              "      <td>0</td>\n",
              "      <td>STON/O2. 3101282</td>\n",
              "      <td>7.925</td>\n",
              "      <td>S</td>\n",
              "    </tr>\n",
              "    <tr>\n",
              "      <th>3</th>\n",
              "      <td>1</td>\n",
              "      <td>female</td>\n",
              "      <td>35</td>\n",
              "      <td>1</td>\n",
              "      <td>0</td>\n",
              "      <td>113803</td>\n",
              "      <td>53.1</td>\n",
              "      <td>S</td>\n",
              "    </tr>\n",
              "    <tr>\n",
              "      <th>4</th>\n",
              "      <td>3</td>\n",
              "      <td>male</td>\n",
              "      <td>35</td>\n",
              "      <td>0</td>\n",
              "      <td>0</td>\n",
              "      <td>373450</td>\n",
              "      <td>8.05</td>\n",
              "      <td>S</td>\n",
              "    </tr>\n",
              "    <tr>\n",
              "      <th>...</th>\n",
              "      <td>...</td>\n",
              "      <td>...</td>\n",
              "      <td>...</td>\n",
              "      <td>...</td>\n",
              "      <td>...</td>\n",
              "      <td>...</td>\n",
              "      <td>...</td>\n",
              "      <td>...</td>\n",
              "    </tr>\n",
              "    <tr>\n",
              "      <th>886</th>\n",
              "      <td>2</td>\n",
              "      <td>male</td>\n",
              "      <td>27</td>\n",
              "      <td>0</td>\n",
              "      <td>0</td>\n",
              "      <td>211536</td>\n",
              "      <td>13</td>\n",
              "      <td>S</td>\n",
              "    </tr>\n",
              "    <tr>\n",
              "      <th>887</th>\n",
              "      <td>1</td>\n",
              "      <td>female</td>\n",
              "      <td>19</td>\n",
              "      <td>0</td>\n",
              "      <td>0</td>\n",
              "      <td>112053</td>\n",
              "      <td>30</td>\n",
              "      <td>S</td>\n",
              "    </tr>\n",
              "    <tr>\n",
              "      <th>888</th>\n",
              "      <td>3</td>\n",
              "      <td>female</td>\n",
              "      <td>28</td>\n",
              "      <td>1</td>\n",
              "      <td>2</td>\n",
              "      <td>W./C. 6607</td>\n",
              "      <td>23.45</td>\n",
              "      <td>S</td>\n",
              "    </tr>\n",
              "    <tr>\n",
              "      <th>889</th>\n",
              "      <td>1</td>\n",
              "      <td>male</td>\n",
              "      <td>26</td>\n",
              "      <td>0</td>\n",
              "      <td>0</td>\n",
              "      <td>111369</td>\n",
              "      <td>30</td>\n",
              "      <td>C</td>\n",
              "    </tr>\n",
              "    <tr>\n",
              "      <th>890</th>\n",
              "      <td>3</td>\n",
              "      <td>male</td>\n",
              "      <td>32</td>\n",
              "      <td>0</td>\n",
              "      <td>0</td>\n",
              "      <td>370376</td>\n",
              "      <td>7.75</td>\n",
              "      <td>Q</td>\n",
              "    </tr>\n",
              "  </tbody>\n",
              "</table>\n",
              "<p>891 rows × 8 columns</p>\n",
              "</div>"
            ],
            "text/plain": [
              "     0       1   2  3  4                 5        6  7\n",
              "0    3    male  22  1  0         A/5 21171     7.25  S\n",
              "1    1  female  38  1  0          PC 17599  71.2833  C\n",
              "2    3  female  26  0  0  STON/O2. 3101282    7.925  S\n",
              "3    1  female  35  1  0            113803     53.1  S\n",
              "4    3    male  35  0  0            373450     8.05  S\n",
              "..  ..     ...  .. .. ..               ...      ... ..\n",
              "886  2    male  27  0  0            211536       13  S\n",
              "887  1  female  19  0  0            112053       30  S\n",
              "888  3  female  28  1  2        W./C. 6607    23.45  S\n",
              "889  1    male  26  0  0            111369       30  C\n",
              "890  3    male  32  0  0            370376     7.75  Q\n",
              "\n",
              "[891 rows x 8 columns]"
            ]
          },
          "metadata": {
            "tags": []
          },
          "execution_count": 9
        }
      ]
    },
    {
      "cell_type": "markdown",
      "metadata": {
        "id": "OcPibK-eu10s",
        "colab_type": "text"
      },
      "source": [
        "**Pre-processing of data  :**\n",
        "\n",
        "*   Using Label Encoder to convert object data into Numeric Data\n",
        "*   Splitting data into training and testing data\n",
        "\n"
      ]
    },
    {
      "cell_type": "code",
      "metadata": {
        "id": "kIicQE8RB4jI",
        "colab_type": "code",
        "outputId": "5b1d50ae-514f-4043-b93a-77b6dc34a8e2",
        "colab": {
          "base_uri": "https://localhost:8080/",
          "height": 85
        }
      },
      "source": [
        "from sklearn.preprocessing import OneHotEncoder,LabelEncoder\n",
        "label=LabelEncoder()\n",
        "X[1]=label.fit_transform(X[1])\n",
        "X[5]=label.fit_transform(X[5])\n",
        "X[7]=label.fit_transform(X[7])\n",
        "\n",
        "\n",
        "from sklearn.model_selection import train_test_split\n",
        "x_train, x_val, y_train, y_val = train_test_split(X,y, test_size= 0.2, random_state=42,shuffle=True)\n",
        "print('the size of the training set{}'.format(x_train.shape))\n",
        "print('='*70)\n",
        "print('the size of the validation set{}'.format(x_val.shape))\n",
        "print('='*70)"
      ],
      "execution_count": 0,
      "outputs": [
        {
          "output_type": "stream",
          "text": [
            "the size of the training set(712, 8)\n",
            "======================================================================\n",
            "the size of the validation set(179, 8)\n",
            "======================================================================\n"
          ],
          "name": "stdout"
        }
      ]
    },
    {
      "cell_type": "markdown",
      "metadata": {
        "id": "FJ9PpceSvfXx",
        "colab_type": "text"
      },
      "source": [
        "**Fitting the data with Decision Tree Classifier and testing it**\n",
        "\n",
        "---\n",
        "\n",
        "\n",
        "*   Getting Confusion matrix\n",
        "*   Getting Classification matrix\n",
        "*   Getting Accuracy Score\n",
        "\n",
        "\n",
        "\n"
      ]
    },
    {
      "cell_type": "code",
      "metadata": {
        "id": "AxL-Ul1vniRy",
        "colab_type": "code",
        "outputId": "06dbb11a-7447-42e9-dcd2-3abe3cac98a6",
        "colab": {
          "base_uri": "https://localhost:8080/",
          "height": 289
        }
      },
      "source": [
        "# Importing Decision \n",
        "from sklearn.tree import DecisionTreeClassifier\n",
        "Classifier=DecisionTreeClassifier(criterion='entropy',random_state=0)\n",
        "Classifier.fit(x_train,y_train)\n",
        "y_pred_decision=Classifier.predict(x_val)\n",
        "#print(y_pred_decision)\n",
        "#print(len(y_pred_decision))     \n",
        "\n",
        "from sklearn.metrics import classification_report, confusion_matrix, accuracy_score\n",
        "print('='*70)\n",
        "print('Confusion Matrix using Decision Tree Classifier: '+ str(confusion_matrix(y_val,y_pred_decision)))\n",
        "print('='*70)\n",
        "print('Classification report using Decision Tree Classifier: '+str(classification_report(y_val,y_pred_decision)))\n",
        "print('='*70)\n",
        "print('Accuracy score using Decision Tree Classifier: '+str(accuracy_score(y_val,y_pred_decision)))\n",
        "print('='*70)"
      ],
      "execution_count": 0,
      "outputs": [
        {
          "output_type": "stream",
          "text": [
            "======================================================================\n",
            "Confusion Matrix using Decision Tree Classifier: [[80 25]\n",
            " [22 52]]\n",
            "======================================================================\n",
            "Classification report using Decision Tree Classifier:               precision    recall  f1-score   support\n",
            "\n",
            "           0       0.78      0.76      0.77       105\n",
            "           1       0.68      0.70      0.69        74\n",
            "\n",
            "    accuracy                           0.74       179\n",
            "   macro avg       0.73      0.73      0.73       179\n",
            "weighted avg       0.74      0.74      0.74       179\n",
            "\n",
            "======================================================================\n",
            "Accuracy score using Decision Tree Classifier: 0.7374301675977654\n",
            "======================================================================\n"
          ],
          "name": "stdout"
        }
      ]
    },
    {
      "cell_type": "markdown",
      "metadata": {
        "id": "uNmTXuvgaz5D",
        "colab_type": "text"
      },
      "source": [
        "**Fitting the data with Random Forest Classifier and testing it**\n",
        "\n",
        "---\n",
        "\n",
        "\n",
        "*   Getting Confusion matrix\n",
        "*   Getting Classification matrix\n",
        "*   Getting Accuracy Score\n",
        "\n",
        "\n",
        "\n"
      ]
    },
    {
      "cell_type": "code",
      "metadata": {
        "id": "gekA1GFgosEH",
        "colab_type": "code",
        "outputId": "0ed066f3-14cc-4e62-c62d-e0fc63fdd0eb",
        "colab": {
          "base_uri": "https://localhost:8080/",
          "height": 343
        }
      },
      "source": [
        "from sklearn.ensemble import RandomForestClassifier\n",
        "Classifier1=RandomForestClassifier(n_estimators=500, criterion='entropy',random_state=0)\n",
        "Classifier1.fit(x_train,y_train)\n",
        "y_pred_RandomForest=Classifier1.predict(x_val)\n",
        "#print(y_pred_RandomForest)\n",
        "#print(len(y_pred_RandomForest))  \n",
        "\n",
        "from sklearn.metrics import classification_report, confusion_matrix, accuracy_score\n",
        "print('='*70)\n",
        "print('Confusion Matrix using Random Forest Classifier: '+ str(confusion_matrix(y_val,y_pred_RandomForest)))\n",
        "print('='*70)\n",
        "print('Classification report using Random Forest Classifier: '+str(classification_report(y_val,y_pred_RandomForest)))\n",
        "print('='*70)\n",
        "print('Accuracy score using Random Forest Classifier: '+str(accuracy_score(y_val,y_pred_RandomForest)))\n",
        "print('='*70)"
      ],
      "execution_count": 0,
      "outputs": [
        {
          "output_type": "stream",
          "text": [
            "/usr/local/lib/python3.6/dist-packages/ipykernel_launcher.py:3: DataConversionWarning: A column-vector y was passed when a 1d array was expected. Please change the shape of y to (n_samples,), for example using ravel().\n",
            "  This is separate from the ipykernel package so we can avoid doing imports until\n"
          ],
          "name": "stderr"
        },
        {
          "output_type": "stream",
          "text": [
            "======================================================================\n",
            "Confusion Matrix using Random Forest Classifier: [[93 12]\n",
            " [21 53]]\n",
            "======================================================================\n",
            "Classification report using Random Forest Classifier:               precision    recall  f1-score   support\n",
            "\n",
            "           0       0.82      0.89      0.85       105\n",
            "           1       0.82      0.72      0.76        74\n",
            "\n",
            "    accuracy                           0.82       179\n",
            "   macro avg       0.82      0.80      0.81       179\n",
            "weighted avg       0.82      0.82      0.81       179\n",
            "\n",
            "======================================================================\n",
            "Accuracy score using Random Forest Classifier: 0.8156424581005587\n",
            "======================================================================\n"
          ],
          "name": "stdout"
        }
      ]
    },
    {
      "cell_type": "markdown",
      "metadata": {
        "id": "1u5GKcRea2PV",
        "colab_type": "text"
      },
      "source": [
        "**Fitting the data with AdaBoost Classifier and testing it**\n",
        "\n",
        "---\n",
        "\n",
        "\n",
        "*   Getting Confusion matrix\n",
        "*   Getting Classification matrix\n",
        "*   Getting Accuracy Score\n",
        "\n",
        "\n",
        "\n"
      ]
    },
    {
      "cell_type": "code",
      "metadata": {
        "id": "JEFrKMNkXFgh",
        "colab_type": "code",
        "outputId": "1f782bfc-04a2-42b0-9872-e65bb779d105",
        "colab": {
          "base_uri": "https://localhost:8080/",
          "height": 343
        }
      },
      "source": [
        "from sklearn.ensemble import AdaBoostClassifier\n",
        "from sklearn.tree import DecisionTreeClassifier\n",
        "\n",
        "bdt = AdaBoostClassifier(DecisionTreeClassifier(max_depth=1),algorithm=\"SAMME\",n_estimators=500)\n",
        "bbdt=bdt.fit(x_train, y_train)\n",
        "y_pred1=bbdt.predict(x_val)\n",
        "\n",
        "from sklearn.metrics import classification_report, confusion_matrix, accuracy_score\n",
        "print('='*70)\n",
        "print('Confusion Matrix using AdaBoost Classifier: '+ str(confusion_matrix(y_val,y_pred1)))\n",
        "print('='*70)\n",
        "print('Classification report using AdaBoost Classifier: '+str(classification_report(y_val,y_pred1)))\n",
        "print('='*70)\n",
        "print('Accuracy score using AdaBoost Classifier: '+str(accuracy_score(y_val,y_pred1)))\n",
        "print('='*70)"
      ],
      "execution_count": 0,
      "outputs": [
        {
          "output_type": "stream",
          "text": [
            "/usr/local/lib/python3.6/dist-packages/sklearn/utils/validation.py:760: DataConversionWarning: A column-vector y was passed when a 1d array was expected. Please change the shape of y to (n_samples, ), for example using ravel().\n",
            "  y = column_or_1d(y, warn=True)\n"
          ],
          "name": "stderr"
        },
        {
          "output_type": "stream",
          "text": [
            "======================================================================\n",
            "Confusion Matrix using AdaBoost Classifier: [[93 12]\n",
            " [18 56]]\n",
            "======================================================================\n",
            "Classification report using AdaBoost Classifier:               precision    recall  f1-score   support\n",
            "\n",
            "           0       0.84      0.89      0.86       105\n",
            "           1       0.82      0.76      0.79        74\n",
            "\n",
            "    accuracy                           0.83       179\n",
            "   macro avg       0.83      0.82      0.82       179\n",
            "weighted avg       0.83      0.83      0.83       179\n",
            "\n",
            "======================================================================\n",
            "Accuracy score using AdaBoost Classifier: 0.8324022346368715\n",
            "======================================================================\n"
          ],
          "name": "stdout"
        }
      ]
    },
    {
      "cell_type": "markdown",
      "metadata": {
        "id": "ezT3WH6-b0sR",
        "colab_type": "text"
      },
      "source": [
        "**Exploratory Data Analysis**\n",
        "*  Pie chart for Gender Distribution\n",
        "*  Bar plot showing survived/non-survived status\n",
        "*  Bar plot over Age Distribution"
      ]
    },
    {
      "cell_type": "code",
      "metadata": {
        "id": "AV2kAw0qStC3",
        "colab_type": "code",
        "outputId": "07962982-a8c2-4ae8-94a4-2cf81023a565",
        "colab": {
          "base_uri": "https://localhost:8080/",
          "height": 269
        }
      },
      "source": [
        "# Exploratory Data Analysis\n",
        "titanic_data['Sex'].value_counts().plot(kind='pie', autopct='%1.0f%%',colors=['red','green'],fontsize=15)\n",
        "plt.title('Gender Distribution',fontsize=20)\n",
        "plt.show()"
      ],
      "execution_count": 0,
      "outputs": [
        {
          "output_type": "display_data",
          "data": {
            "image/png": "[encoded data removed]",
            "text/plain": [
              "<Figure size 432x288 with 1 Axes>"
            ]
          },
          "metadata": {
            "tags": []
          }
        }
      ]
    },
    {
      "cell_type": "code",
      "metadata": {
        "id": "FAUxPSl7TJ_2",
        "colab_type": "code",
        "outputId": "7393679a-31e3-408a-9936-519afce24feb",
        "colab": {
          "base_uri": "https://localhost:8080/",
          "height": 302
        }
      },
      "source": [
        "titanic_data['Survived'].value_counts().plot(kind='bar')\n",
        "plt.title('Survival Distribution',fontsize=20)\n",
        "plt.xlabel('Survived/Not Survived',fontsize=15)\n",
        "plt.ylabel('Counts',fontsize=15)\n",
        "plt.show()"
      ],
      "execution_count": 0,
      "outputs": [
        {
          "output_type": "display_data",
          "data": {
            "image/png": "[encoded data removed]",
            "text/plain": [
              "<Figure size 432x288 with 1 Axes>"
            ]
          },
          "metadata": {
            "tags": [],
            "needs_background": "light"
          }
        }
      ]
    },
    {
      "cell_type": "code",
      "metadata": {
        "id": "KFFmQGuCV_AZ",
        "colab_type": "code",
        "outputId": "f38fbd97-39dd-43e1-c02c-6d37d811ba2d",
        "colab": {
          "base_uri": "https://localhost:8080/",
          "height": 305
        }
      },
      "source": [
        "age0_30 = titanic_data['Age'][(titanic_data['Age']>0) & (titanic_data['Age']<=30)]\n",
        "age31_60 = titanic_data['Age'][(titanic_data['Age']>30) & (titanic_data['Age']<=60)]\n",
        "age61_90 = titanic_data['Age'][(titanic_data['Age']>60) & (titanic_data['Age']<=90)]\n",
        "x=['<30','31-60','>60']\n",
        "y=[len(age0_30),len(age31_60),len(age61_90)]\n",
        "sns.barplot(x,y)\n",
        "plt.xlabel('Age',fontsize=15)\n",
        "plt.ylabel('Number of people',fontsize=15)\n",
        "plt.title('Age Distribution',fontsize=20)\n",
        "plt.show()"
      ],
      "execution_count": 0,
      "outputs": [
        {
          "output_type": "display_data",
          "data": {
            "image/png": "[encoded data removed]",
            "text/plain": [
              "<Figure size 432x288 with 1 Axes>"
            ]
          },
          "metadata": {
            "tags": [],
            "needs_background": "light"
          }
        }
      ]
    }
  ]
}